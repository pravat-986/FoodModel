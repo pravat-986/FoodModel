{
  "nbformat": 4,
  "nbformat_minor": 0,
  "metadata": {
    "colab": {
      "provenance": [],
      "include_colab_link": true
    },
    "kernelspec": {
      "name": "python3",
      "display_name": "Python 3"
    },
    "language_info": {
      "name": "python"
    },
    "accelerator": "GPU",
    "gpuClass": "standard"
  },
  "cells": [
    {
      "cell_type": "markdown",
      "metadata": {
        "id": "view-in-github",
        "colab_type": "text"
      },
      "source": [
        "<a href=\"https://colab.research.google.com/github/pravat-986/FoodModel/blob/main/Vgg16_Model.ipynb\" target=\"_parent\"><img src=\"https://colab.research.google.com/assets/colab-badge.svg\" alt=\"Open In Colab\"/></a>"
      ]
    },
    {
      "cell_type": "code",
      "execution_count": null,
      "metadata": {
        "colab": {
          "base_uri": "https://localhost:8080/"
        },
        "id": "mYgXrYa_7Lk_",
        "outputId": "f7f70ee9-e4ed-45da-cb18-0afcd3a892d9"
      },
      "outputs": [
        {
          "output_type": "stream",
          "name": "stdout",
          "text": [
            "All Imported\n"
          ]
        }
      ],
      "source": [
        "# import required libraries\n",
        "from keras.applications.vgg16 import VGG16\n",
        "from keras.models import Sequential\n",
        "from keras.layers import Dense, Flatten\n",
        "from keras.preprocessing.image import ImageDataGenerator\n",
        "import os\n",
        "print(\"All Imported\")"
      ]
    },
    {
      "cell_type": "code",
      "source": [
        "from google.colab import drive\n",
        "drive.mount('/content/drive')"
      ],
      "metadata": {
        "colab": {
          "base_uri": "https://localhost:8080/"
        },
        "id": "tE4fQtuP75tD",
        "outputId": "b233dadc-cc72-4c13-ef1d-4a0ef7e5f1f4"
      },
      "execution_count": null,
      "outputs": [
        {
          "output_type": "stream",
          "name": "stdout",
          "text": [
            "Mounted at /content/drive\n"
          ]
        }
      ]
    },
    {
      "cell_type": "code",
      "source": [
        "cd drive"
      ],
      "metadata": {
        "colab": {
          "base_uri": "https://localhost:8080/"
        },
        "id": "9DT2MCH_77eU",
        "outputId": "f9c6eb6e-fd3b-4241-a6f1-d2aedb013f6e"
      },
      "execution_count": null,
      "outputs": [
        {
          "output_type": "stream",
          "name": "stdout",
          "text": [
            "/content/drive\n"
          ]
        }
      ]
    },
    {
      "cell_type": "code",
      "source": [
        "ls"
      ],
      "metadata": {
        "colab": {
          "base_uri": "https://localhost:8080/"
        },
        "id": "dtChvFj079zT",
        "outputId": "5d1f914e-d76b-4961-9b5b-c88f0c44c7f8"
      },
      "execution_count": null,
      "outputs": [
        {
          "output_type": "stream",
          "name": "stdout",
          "text": [
            "\u001b[0m\u001b[01;34mMyDrive\u001b[0m/\n"
          ]
        }
      ]
    },
    {
      "cell_type": "code",
      "source": [
        "cd My Drive/Model"
      ],
      "metadata": {
        "colab": {
          "base_uri": "https://localhost:8080/"
        },
        "id": "NHg1xw287_gL",
        "outputId": "a95026ae-39a0-41d1-d2f7-35010ab50b99"
      },
      "execution_count": null,
      "outputs": [
        {
          "output_type": "stream",
          "name": "stdout",
          "text": [
            "/content/drive/My Drive/Model\n"
          ]
        }
      ]
    },
    {
      "cell_type": "code",
      "source": [
        "ls"
      ],
      "metadata": {
        "colab": {
          "base_uri": "https://localhost:8080/"
        },
        "id": "3JM9dtMx8BFd",
        "outputId": "c87a2806-8050-44da-945f-06fa1541fff6"
      },
      "execution_count": null,
      "outputs": [
        {
          "output_type": "stream",
          "name": "stdout",
          "text": [
            " food_detection_model.h5   \u001b[0m\u001b[01;34mtest\u001b[0m/  \u001b[01;34m'train image'\u001b[0m/   \u001b[01;34mvalidation\u001b[0m/\n"
          ]
        }
      ]
    },
    {
      "cell_type": "code",
      "source": [
        "# create a VGG16 model instance without top layers\n",
        "vgg_model = VGG16(weights='imagenet', include_top=False, input_shape=(224, 224, 3))"
      ],
      "metadata": {
        "colab": {
          "base_uri": "https://localhost:8080/"
        },
        "id": "LiYrEWW07NYp",
        "outputId": "14987580-f36c-4698-b45d-f13a745d7139"
      },
      "execution_count": null,
      "outputs": [
        {
          "output_type": "stream",
          "name": "stdout",
          "text": [
            "Downloading data from https://storage.googleapis.com/tensorflow/keras-applications/vgg16/vgg16_weights_tf_dim_ordering_tf_kernels_notop.h5\n",
            "58889256/58889256 [==============================] - 0s 0us/step\n"
          ]
        }
      ]
    },
    {
      "cell_type": "code",
      "source": [
        "# create a new model\n",
        "model = Sequential()"
      ],
      "metadata": {
        "id": "ttAmYzK97PRh"
      },
      "execution_count": null,
      "outputs": []
    },
    {
      "cell_type": "code",
      "source": [
        "# add the VGG16 model to the new model\n",
        "model.add(vgg_model)"
      ],
      "metadata": {
        "id": "qB_XEYnk7Q0i"
      },
      "execution_count": null,
      "outputs": []
    },
    {
      "cell_type": "code",
      "source": [
        "# add new layers on top of the VGG16 model\n",
        "model.add(Flatten())\n",
        "model.add(Dense(512, activation='relu'))\n",
        "model.add(Dense(256, activation='relu'))\n",
        "model.add(Dense(128, activation='relu'))\n",
        "model.add(Dense(7, activation='softmax'))"
      ],
      "metadata": {
        "id": "FGjp5YcT7SNa"
      },
      "execution_count": null,
      "outputs": []
    },
    {
      "cell_type": "code",
      "source": [
        "# compile the model\n",
        "model.compile(loss='categorical_crossentropy', optimizer='adam', metrics=['accuracy'])"
      ],
      "metadata": {
        "id": "PFcIsV8Z7T8T"
      },
      "execution_count": null,
      "outputs": []
    },
    {
      "cell_type": "code",
      "source": [
        "# create a data generator for training data\n",
        "train_datagen = ImageDataGenerator(rescale=1./255, shear_range=0.2, zoom_range=0.2, horizontal_flip=True)"
      ],
      "metadata": {
        "id": "gLF_eujW7XaS"
      },
      "execution_count": null,
      "outputs": []
    },
    {
      "cell_type": "code",
      "source": [
        "# create a data generator for validation data\n",
        "val_datagen = ImageDataGenerator(rescale=1./255)"
      ],
      "metadata": {
        "id": "yOpF5ace7azL"
      },
      "execution_count": null,
      "outputs": []
    },
    {
      "cell_type": "code",
      "source": [
        "# set the batch size and image size\n",
        "batch_size = 32\n",
        "img_size = (224, 224)"
      ],
      "metadata": {
        "id": "S0nqxJtw7bXz"
      },
      "execution_count": null,
      "outputs": []
    },
    {
      "cell_type": "code",
      "source": [
        "# create the training data generator\n",
        "train_generator = train_datagen.flow_from_directory('train image', target_size=img_size, batch_size=batch_size, class_mode='categorical')"
      ],
      "metadata": {
        "colab": {
          "base_uri": "https://localhost:8080/"
        },
        "id": "AgpqRXFH7c-K",
        "outputId": "a52918f1-d66b-4380-8cfd-9d6aae78f193"
      },
      "execution_count": null,
      "outputs": [
        {
          "output_type": "stream",
          "name": "stdout",
          "text": [
            "Found 1093 images belonging to 7 classes.\n"
          ]
        }
      ]
    },
    {
      "cell_type": "code",
      "source": [
        "# create the validation data generator\n",
        "val_generator = val_datagen.flow_from_directory('validation', target_size=img_size, batch_size=batch_size, class_mode='categorical')"
      ],
      "metadata": {
        "colab": {
          "base_uri": "https://localhost:8080/"
        },
        "id": "1YI_u7WP7e7b",
        "outputId": "bd07f120-a5b7-476c-b3fc-f1994b21bb3b"
      },
      "execution_count": null,
      "outputs": [
        {
          "output_type": "stream",
          "name": "stdout",
          "text": [
            "Found 208 images belonging to 7 classes.\n"
          ]
        }
      ]
    },
    {
      "cell_type": "code",
      "source": [
        "# train the model\n",
        "history=model.fit(train_generator, epochs=10, validation_data=val_generator)"
      ],
      "metadata": {
        "colab": {
          "base_uri": "https://localhost:8080/"
        },
        "id": "XhjHGepJ7jLH",
        "outputId": "00a6befe-479d-4b75-b0c4-63f4cf6aae57"
      },
      "execution_count": null,
      "outputs": [
        {
          "output_type": "stream",
          "name": "stdout",
          "text": [
            "Epoch 1/10\n",
            "35/35 [==============================] - 246s 6s/step - loss: 2.4695 - accuracy: 0.3211 - val_loss: 2.2033 - val_accuracy: 0.1442\n",
            "Epoch 2/10\n",
            "35/35 [==============================] - 25s 709ms/step - loss: 1.7139 - accuracy: 0.3934 - val_loss: 2.1550 - val_accuracy: 0.1442\n",
            "Epoch 3/10\n",
            "35/35 [==============================] - 24s 679ms/step - loss: 1.6918 - accuracy: 0.3934 - val_loss: 2.2097 - val_accuracy: 0.1442\n",
            "Epoch 4/10\n",
            "35/35 [==============================] - 24s 688ms/step - loss: 1.7055 - accuracy: 0.3852 - val_loss: 2.1877 - val_accuracy: 0.1490\n",
            "Epoch 5/10\n",
            "35/35 [==============================] - 25s 703ms/step - loss: 1.5539 - accuracy: 0.4428 - val_loss: 1.7943 - val_accuracy: 0.2885\n",
            "Epoch 6/10\n",
            "35/35 [==============================] - 25s 721ms/step - loss: 1.4641 - accuracy: 0.4721 - val_loss: 1.9524 - val_accuracy: 0.2212\n",
            "Epoch 7/10\n",
            "35/35 [==============================] - 24s 682ms/step - loss: 1.3686 - accuracy: 0.4959 - val_loss: 2.0819 - val_accuracy: 0.2500\n",
            "Epoch 8/10\n",
            "35/35 [==============================] - 24s 672ms/step - loss: 1.3374 - accuracy: 0.5050 - val_loss: 1.9306 - val_accuracy: 0.2356\n",
            "Epoch 9/10\n",
            "35/35 [==============================] - 24s 694ms/step - loss: 1.2776 - accuracy: 0.5169 - val_loss: 1.7688 - val_accuracy: 0.2644\n",
            "Epoch 10/10\n",
            "35/35 [==============================] - 25s 695ms/step - loss: 1.2769 - accuracy: 0.5142 - val_loss: 1.7312 - val_accuracy: 0.2933\n"
          ]
        }
      ]
    },
    {
      "cell_type": "code",
      "source": [
        "history.history.keys()"
      ],
      "metadata": {
        "colab": {
          "base_uri": "https://localhost:8080/"
        },
        "id": "Z2OZrX3tC8dY",
        "outputId": "0b64427f-e166-4731-b2c7-3ce218457b4b"
      },
      "execution_count": null,
      "outputs": [
        {
          "output_type": "execute_result",
          "data": {
            "text/plain": [
              "dict_keys(['loss', 'accuracy', 'val_loss', 'val_accuracy'])"
            ]
          },
          "metadata": {},
          "execution_count": 18
        }
      ]
    },
    {
      "cell_type": "code",
      "source": [
        "import matplotlib.pyplot as plt\n",
        "\n",
        "plt.plot(history.history['accuracy'])\n",
        "plt.title('model accuracy')\n",
        "plt.ylabel('accuracy')\n",
        "plt.xlabel('epoch')\n",
        "plt.legend(['train'], loc='upper left')\n",
        "plt.show()"
      ],
      "metadata": {
        "colab": {
          "base_uri": "https://localhost:8080/",
          "height": 295
        },
        "id": "MtcjQ-5EDHiI",
        "outputId": "d17893fc-d826-4080-b6ac-4d5fb9e33bc9"
      },
      "execution_count": null,
      "outputs": [
        {
          "output_type": "display_data",
          "data": {
            "text/plain": [
              "<Figure size 432x288 with 1 Axes>"
            ],
            "image/png": "[encoded data removed]"
          },
          "metadata": {
            "needs_background": "light"
          }
        }
      ]
    },
    {
      "cell_type": "code",
      "source": [
        "plt.plot(history.history['loss'])\n",
        "plt.title('model loss')\n",
        "plt.ylabel('loss')\n",
        "plt.xlabel('epoch')\n",
        "plt.legend(['train'], loc='upper left')\n",
        "plt.show()"
      ],
      "metadata": {
        "colab": {
          "base_uri": "https://localhost:8080/",
          "height": 295
        },
        "id": "hZdD7PYiKvI2",
        "outputId": "57564e3e-f2ae-4d86-dcd1-148370abea1f"
      },
      "execution_count": null,
      "outputs": [
        {
          "output_type": "display_data",
          "data": {
            "text/plain": [
              "<Figure size 432x288 with 1 Axes>"
            ],
            "image/png": "[encoded data removed]"
          },
          "metadata": {
            "needs_background": "light"
          }
        }
      ]
    },
    {
      "cell_type": "code",
      "source": [
        "plt.plot(history.history['val_accuracy'])\n",
        "plt.title('model val_accuracy')\n",
        "plt.ylabel('val_accuracy')\n",
        "plt.xlabel('epoch')\n",
        "plt.legend(['train'], loc='upper left')\n",
        "plt.show()"
      ],
      "metadata": {
        "colab": {
          "base_uri": "https://localhost:8080/",
          "height": 295
        },
        "id": "glW_SrkEK6cv",
        "outputId": "19e3b25e-e181-4d5d-a37c-644dea0cf9a0"
      },
      "execution_count": null,
      "outputs": [
        {
          "output_type": "display_data",
          "data": {
            "text/plain": [
              "<Figure size 432x288 with 1 Axes>"
            ],
            "image/png": "[encoded data removed]"
          },
          "metadata": {
            "needs_background": "light"
          }
        }
      ]
    },
    {
      "cell_type": "code",
      "source": [
        "plt.plot(history.history['val_loss'])\n",
        "plt.title('model val_loss')\n",
        "plt.ylabel('val_loss')\n",
        "plt.xlabel('epoch')\n",
        "plt.legend(['train'], loc='upper left')\n",
        "plt.show()"
      ],
      "metadata": {
        "colab": {
          "base_uri": "https://localhost:8080/",
          "height": 295
        },
        "outputId": "ce435000-eb8d-4218-ee54-4548c83229b4",
        "id": "MQsD0v7mLNde"
      },
      "execution_count": null,
      "outputs": [
        {
          "output_type": "display_data",
          "data": {
            "text/plain": [
              "<Figure size 432x288 with 1 Axes>"
            ],
            "image/png": "[encoded data removed]"
          },
          "metadata": {
            "needs_background": "light"
          }
        }
      ]
    },
    {
      "cell_type": "code",
      "source": [
        "# evaluate the model on the test set\n",
        "loss, accuracy = model.evaluate(train_generator)\n",
        "\n",
        "print('Test loss:', loss)\n",
        "print('Test accuracy:', accuracy)"
      ],
      "metadata": {
        "colab": {
          "base_uri": "https://localhost:8080/"
        },
        "id": "pfC8erQsSIkU",
        "outputId": "076f8085-6d4c-4c6c-d599-894affb6c077"
      },
      "execution_count": null,
      "outputs": [
        {
          "output_type": "stream",
          "name": "stdout",
          "text": [
            "35/35 [==============================] - 20s 551ms/step - loss: 1.2643 - accuracy: 0.4968\n",
            "Test loss: 1.2642848491668701\n",
            "Test accuracy: 0.4967978000640869\n"
          ]
        }
      ]
    }
  ]
}